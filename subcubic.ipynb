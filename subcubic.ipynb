{
 "cells": [
  {
   "cell_type": "markdown",
   "id": "ff7550f5-c844-4ae3-925d-d0fecbe5c90d",
   "metadata": {},
   "source": [
    "The below was done as an exercise from the \"Computational Methods for Linear Algebra\" course (MT404) with Alberto Saa.\n",
    "\n",
    "Exercise proposition, in Brazillian Portuguese, is [EP3](http://vigo.ime.unicamp.br/mt404/EP3.pdf).\n",
    "\n",
    "In short, the goal is to explore a subcubic algorithm for matrix multiplication, i.e. an algo with O(n^k) operations (k<3)."
   ]
  },
  {
   "cell_type": "code",
   "execution_count": 1,
   "id": "1343598e",
   "metadata": {},
   "outputs": [],
   "source": [
    "import numpy as np  # using for better initialization of arrays\n",
    "import time"
   ]
  },
  {
   "cell_type": "code",
   "execution_count": 2,
   "id": "03b5445e",
   "metadata": {},
   "outputs": [],
   "source": [
    "def vanilla_product(A: np.ndarray, B: np.ndarray) -> tuple[np.ndarray, float]:\n",
    "    m, p = A.shape\n",
    "    q, n = B.shape\n",
    "    if p != q:\n",
    "        raise ValueError(f\"Dimension of A and B do not match\")\n",
    "    C = np.zeros((m, n))\n",
    "    start = time.process_time()\n",
    "    for i in range(m):\n",
    "        for j in range(n):\n",
    "            for k in range(p):\n",
    "                C[i, j] += A[i, k] * B[k, j]\n",
    "    end = time.process_time()\n",
    "    return C, end - start"
   ]
  },
  {
   "cell_type": "code",
   "execution_count": 3,
   "id": "4d494733",
   "metadata": {},
   "outputs": [],
   "source": [
    "def winograd_product(A: np.ndarray, B: np.ndarray) -> tuple[np.ndarray, float]:\n",
    "    m, p = A.shape\n",
    "    q, n = B.shape\n",
    "    if m != p or q != n or m != n or (n % 2 != 0):\n",
    "        raise ValueError(f\"Dimension of A and B have to be the same and even\")\n",
    "    C = np.zeros((n, n))\n",
    "    v = np.zeros(n)\n",
    "    w = np.zeros(n)\n",
    "    start = time.process_time()\n",
    "    for i in range(n):\n",
    "        for k in range(n // 2):\n",
    "            v[i] += A[i, 2 * k] * A[i, 2 * k + 1]\n",
    "        for j in range(n):\n",
    "            if w[j] == 0:  # only calculate when such entry was not already done\n",
    "                for k in range(n // 2):    \n",
    "                    w[j] += B[2 * k, j] * B[2 * k + 1, j]\n",
    "            for k in range(n // 2):\n",
    "                c = (A[i, 2 * k] + B[2 * k + 1, j]) * (A[i, 2 * k + 1] + B[2 * k, j])\n",
    "                C[i, j] += c\n",
    "            C[i, j] -= v[i]\n",
    "            C[i, j] -= w[j]\n",
    "    end = time.process_time()\n",
    "    return C, end - start"
   ]
  },
  {
   "cell_type": "code",
   "execution_count": 4,
   "id": "175ebdd4",
   "metadata": {},
   "outputs": [
    {
     "name": "stdout",
     "output_type": "stream",
     "text": [
      "n=100\n",
      "The vanilla product is correct: True\n",
      "The Winograd product is correct: True\n",
      "Time for vanilla product = 0.59s\n",
      "Time for Winograd product = 0.54s\n"
     ]
    }
   ],
   "source": [
    "n = 100\n",
    "A = np.random.rand(n, n)\n",
    "B = np.random.rand(n, n)\n",
    "C_vanilla, time_vanilla = vanilla_product(A, B)\n",
    "C_winograd, time_winograd = winograd_product(A, B)\n",
    "# check if the product is correct\n",
    "C = A @ B\n",
    "epsilon = 1e-8\n",
    "print(f\"{n=}\")\n",
    "print(f\"The vanilla product is correct: {np.linalg.norm(C-C_vanilla)<epsilon}\")\n",
    "print(f\"The Winograd product is correct: {np.linalg.norm(C-C_winograd)<epsilon}\")\n",
    "print(f\"Time for vanilla product = {time_vanilla:.2f}s\")\n",
    "print(f\"Time for Winograd product = {time_winograd:.2f}s\")"
   ]
  },
  {
   "cell_type": "code",
   "execution_count": null,
   "id": "79a70ef6-7595-43a2-b531-ad82dfd12ff0",
   "metadata": {},
   "outputs": [],
   "source": []
  },
  {
   "cell_type": "markdown",
   "id": "1b038b3e",
   "metadata": {},
   "source": [
    "The ratio of floating point opertions in the Winograd versus the usual/standard (henceforth called \"vanilla\") product is (for $n\\rightarrow\\infty$)\n",
    "$$r = \\frac{3+\\omega}{2+2\\omega}$$\n",
    "And thus it is needed that $\\omega > 1$ for Winograd's algorithm to be more efficient than the vanilla one.\n",
    "$$\\omega = \\frac{3 - 2r}{2r - 1}$$\n",
    "We can proxy $r$ using the time it takes for the Winograd's over the time it takes for the vanilla product to run.\n",
    "\n",
    "Using our sophisticated knowledge of statistics we will perform a very complex task for the estimation of the average times (we will use sample mean and variance, with sample size $M$).\n",
    "$$\\bar{T}=\\frac{1}{M}\\sum_{k=1}^M T_k \\ \\land \\ S^2=\\frac{1}{M-1}\\sum_{k=1}^M (T_k-\\bar{T})^2$$\n",
    "\n",
    "For the average ratio, the mean will simply be\n",
    "$$\\bar{r} = \\frac{\\bar{T}_W}{\\bar{T}_v}$$\n",
    "Where $T_W$ is Winograd's product time and $T_v$ is the vanilla product time.\n",
    "\n",
    "But, for the standard error, we will need to invoke an even more sophisticated techinque called \"propagation of uncertainty\" directly from the physics lab class. Then\n",
    "$$\\hat{\\sigma}_r = \\frac{1}{\\sqrt{M}} \\sqrt{ S^2_W\\frac{1}{\\bar{T}_v^2} + S^2_v\\frac{\\bar{T}_W^2}{\\bar{T}_v^4}}=\\frac{1}{\\bar{T}_v\\sqrt{M}}\\sqrt{ S^2_W + S^2_v\\frac{\\bar{T}_W^2}{\\bar{T}_v^2}}$$\n",
    "\n",
    "Finally, doing the same for $\\omega$, which is what we are *actually* interested in\n",
    "$$\\hat{\\omega} = \\frac{3 - 2\\hat{r}}{2\\hat{r} - 1} \\ \\land \\ \\hat{\\sigma}_{\\omega}=\\frac{4\\hat{\\sigma}_r}{(2\\hat{r}-1)^2}$$"
   ]
  },
  {
   "cell_type": "code",
   "execution_count": 5,
   "id": "036c93ff-3eb1-4cc7-936c-4eaca5c96405",
   "metadata": {},
   "outputs": [],
   "source": [
    "def test(sample_size: int, n=100) -> None:\n",
    "    M = sample_size\n",
    "    vanilla = []\n",
    "    wino = []\n",
    "    for _ in range(M):\n",
    "        A = np.random.rand(n, n)\n",
    "        B = np.random.rand(n, n)\n",
    "        C_vanilla, time_vanilla = vanilla_product(A, B)\n",
    "        C_winograd, time_winograd = winograd_product(A, B)\n",
    "        vanilla.append(time_vanilla)\n",
    "        wino.append(time_winograd)\n",
    "    vanilla_mean = np.mean(vanilla)\n",
    "    vanilla_std = np.std(vanilla, ddof=1)\n",
    "    wino_mean = np.mean(wino)\n",
    "    wino_std = np.std(vanilla, ddof=1)\n",
    "    r = wino_mean/vanilla_mean\n",
    "    sigma = np.sqrt(wino_std**2 + vanilla_std**2 * (wino_mean/vanilla_mean)**2)/(vanilla_mean*np.sqrt(M))\n",
    "    omega = (3 - 2*r)/(2*r - 1)\n",
    "    error = 4 * sigma/(2*r - 1)**2\n",
    "    print(f\"Dimension: {n=}\")\n",
    "    print(f\"Sample size: {M=}\")\n",
    "    print(f\"Time for vanilla: {vanilla_mean:.2f} \\pm {vanilla_std/np.sqrt(M):.2f}\")\n",
    "    print(f\"Time for Winograd: {wino_mean:.2f} \\pm {wino_std/np.sqrt(M):.2f}\")\n",
    "    print(f\"Estimated {omega=:.2f} with {error=:.2f}\")"
   ]
  },
  {
   "cell_type": "code",
   "execution_count": 6,
   "id": "ad1d2533-8aae-47ff-914c-da021276dd70",
   "metadata": {},
   "outputs": [
    {
     "name": "stdout",
     "output_type": "stream",
     "text": [
      "Dimension: n=100\n",
      "Sample size: M=10\n",
      "Time for vanilla: 0.62 \\pm 0.01\n",
      "Time for Winograd: 0.61 \\pm 0.01\n",
      "Estimated omega=1.05 with error=0.12\n"
     ]
    }
   ],
   "source": [
    "test(10, n=100)"
   ]
  },
  {
   "cell_type": "code",
   "execution_count": 7,
   "id": "21975896-4dcc-4636-b853-ba5fa6b12a53",
   "metadata": {},
   "outputs": [
    {
     "name": "stdout",
     "output_type": "stream",
     "text": [
      "Dimension: n=200\n",
      "Sample size: M=10\n",
      "Time for vanilla: 5.17 \\pm 0.08\n",
      "Time for Winograd: 5.27 \\pm 0.08\n",
      "Estimated omega=0.93 with error=0.09\n"
     ]
    }
   ],
   "source": [
    "test(10, n=200)"
   ]
  },
  {
   "cell_type": "code",
   "execution_count": 8,
   "id": "6eb893cb-d479-4c66-bee5-d60cd6fff1b7",
   "metadata": {},
   "outputs": [
    {
     "name": "stdout",
     "output_type": "stream",
     "text": [
      "Dimension: n=300\n",
      "Sample size: M=10\n",
      "Time for vanilla: 18.88 \\pm 0.22\n",
      "Time for Winograd: 17.59 \\pm 0.22\n",
      "Estimated omega=1.32 with error=0.09\n"
     ]
    }
   ],
   "source": [
    "test(10, n=300)"
   ]
  },
  {
   "cell_type": "code",
   "execution_count": 9,
   "id": "648fa222-3ac5-4770-892b-8d4345b33526",
   "metadata": {},
   "outputs": [
    {
     "name": "stdout",
     "output_type": "stream",
     "text": [
      "Dimension: n=50\n",
      "Sample size: M=10\n",
      "Time for vanilla: 0.09 \\pm 0.00\n",
      "Time for Winograd: 0.08 \\pm 0.00\n",
      "Estimated omega=1.06 with error=0.17\n"
     ]
    }
   ],
   "source": [
    "test(10, n=50)"
   ]
  },
  {
   "cell_type": "code",
   "execution_count": 10,
   "id": "36e5740c-c235-486b-a87e-21ba1489576a",
   "metadata": {},
   "outputs": [
    {
     "name": "stdout",
     "output_type": "stream",
     "text": [
      "Dimension: n=100\n",
      "Sample size: M=100\n",
      "Time for vanilla: 0.72 \\pm 0.01\n",
      "Time for Winograd: 0.71 \\pm 0.01\n",
      "Estimated omega=1.07 with error=0.06\n"
     ]
    }
   ],
   "source": [
    "test(100, n=100)"
   ]
  },
  {
   "cell_type": "code",
   "execution_count": 11,
   "id": "bcb97f5b-fa5d-48d9-8e30-657d652c7832",
   "metadata": {},
   "outputs": [
    {
     "name": "stdout",
     "output_type": "stream",
     "text": [
      "Dimension: n=200\n",
      "Sample size: M=100\n",
      "Time for vanilla: 5.98 \\pm 0.06\n",
      "Time for Winograd: 5.86 \\pm 0.06\n",
      "Estimated omega=1.08 with error=0.07\n"
     ]
    }
   ],
   "source": [
    "test(100, n=200)"
   ]
  },
  {
   "cell_type": "code",
   "execution_count": 12,
   "id": "f677aa32-bc7d-4d55-9b9d-63ef1205a7fc",
   "metadata": {},
   "outputs": [
    {
     "name": "stdout",
     "output_type": "stream",
     "text": [
      "Dimension: n=300\n",
      "Sample size: M=100\n",
      "Time for vanilla: 16.07 \\pm 0.17\n",
      "Time for Winograd: 15.38 \\pm 0.17\n",
      "Estimated omega=1.19 with error=0.07\n"
     ]
    }
   ],
   "source": [
    "test(100, n=300)"
   ]
  },
  {
   "cell_type": "code",
   "execution_count": 13,
   "id": "94b7cbc2-8073-4223-9cec-d58283d5dd67",
   "metadata": {},
   "outputs": [
    {
     "name": "stdout",
     "output_type": "stream",
     "text": [
      "Dimension: n=50\n",
      "Sample size: M=100\n",
      "Time for vanilla: 0.07 \\pm 0.00\n",
      "Time for Winograd: 0.07 \\pm 0.00\n",
      "Estimated omega=0.98 with error=0.04\n"
     ]
    }
   ],
   "source": [
    "test(100, n=50)"
   ]
  },
  {
   "cell_type": "code",
   "execution_count": null,
   "id": "42c772b2-edaf-4bc8-adb8-9b21d5412447",
   "metadata": {},
   "outputs": [],
   "source": []
  },
  {
   "cell_type": "markdown",
   "id": "471c0509-f3ac-4b68-bb97-cd36466eb479",
   "metadata": {},
   "source": [
    "The result is not exactly convincing, although (mostly) positive for Winorgrad's algorithm.\n",
    "\n",
    "The superiority over the vanilla matrix multiplication algorithm is mild, at best, from this implementation and test.\n",
    "\n",
    "This could be due to inefficiencies in the implementation, sure, but it is also possible that the processor has memory accessing/registering instructions that are not optimized for an \"unusual\" procedure for matrix multiplication. Meaning that it is possible that the difference would be more prominent in case the processor was completely agnostic to matrix products, given memory access is a cost not included in the calculations for the complexity.\n",
    "\n",
    "Of course, there is also a limitation in such claim, for the language used in the above prototype is far from low level, so it is also possible that the results could change (for better or worse) in a low level language like C, or Fortran, or even lower, Assembly.\n",
    "\n",
    "Is is *worth* using Winograd's algorithm, at least in python applications given the slight benefit seen above? I don't think so, mainly because NumPy's matrix multiplication is much faster and, if the matrix size is big enough for the time shaved to matter, it is very likely that space complexity will also come into play, so it is not obvious that Winograd's algorithm should be used (or even when it should be used)."
   ]
  },
  {
   "cell_type": "code",
   "execution_count": 14,
   "id": "0d14440c-6e27-4cf6-a3f3-7ca26feddf65",
   "metadata": {},
   "outputs": [
    {
     "name": "stdout",
     "output_type": "stream",
     "text": [
      "Time for NumPy's product = 0.01s\n"
     ]
    }
   ],
   "source": [
    "n = 100\n",
    "A = np.random.rand(n, n)\n",
    "B = np.random.rand(n, n)\n",
    "start = time.process_time()\n",
    "C = A @ B\n",
    "end = time.process_time()\n",
    "time_elapsed = end - start\n",
    "print(f\"Time for NumPy's product = {time_elapsed:.2f}s\")"
   ]
  },
  {
   "cell_type": "code",
   "execution_count": null,
   "id": "c7f83de4-f5d0-4147-b904-0f696acdcae1",
   "metadata": {},
   "outputs": [],
   "source": []
  }
 ],
 "metadata": {
  "jupytext": {
   "cell_metadata_filter": "-all",
   "main_language": "python",
   "notebook_metadata_filter": "-all"
  },
  "kernelspec": {
   "display_name": ".env",
   "language": "python",
   "name": ".env"
  },
  "language_info": {
   "codemirror_mode": {
    "name": "ipython",
    "version": 3
   },
   "file_extension": ".py",
   "mimetype": "text/x-python",
   "name": "python",
   "nbconvert_exporter": "python",
   "pygments_lexer": "ipython3",
   "version": "3.10.12"
  }
 },
 "nbformat": 4,
 "nbformat_minor": 5
}
